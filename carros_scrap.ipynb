{
 "cells": [
  {
   "cell_type": "markdown",
   "id": "bcff36d5",
   "metadata": {},
   "source": [
    "##### Importando as Bibliotecas"
   ]
  },
  {
   "cell_type": "code",
   "execution_count": 1,
   "id": "0d901c46",
   "metadata": {},
   "outputs": [],
   "source": [
    "from msedge.selenium_tools import EdgeOptions, Edge\n",
    "import time\n",
    "import random\n",
    "from selenium.webdriver.common.keys import Keys\n",
    "import pandas as pd\n",
    "import warnings"
   ]
  },
  {
   "cell_type": "markdown",
   "id": "0d49e389",
   "metadata": {},
   "source": [
    "##### Criando uma Função pra Rolar a Página num tempo aleatório "
   ]
  },
  {
   "cell_type": "code",
   "execution_count": 2,
   "id": "dc08cf62",
   "metadata": {},
   "outputs": [],
   "source": [
    "def rolar_pagina():\n",
    "    body = driver.find_element_by_tag_name(\"body\")\n",
    "    body.send_keys(Keys.PAGE_DOWN)\n",
    "    time.sleep(random.uniform(0.5, 1.5))  "
   ]
  },
  {
   "cell_type": "markdown",
   "id": "464ee811",
   "metadata": {},
   "source": [
    "##### Criando um Range com a Qtd de Páginas para o scrapping e um Df em Branco"
   ]
  },
  {
   "cell_type": "code",
   "execution_count": 3,
   "id": "a59f38bb",
   "metadata": {},
   "outputs": [],
   "source": [
    "lista = range(1, 501)\n",
    "dados = []"
   ]
  },
  {
   "cell_type": "markdown",
   "id": "6f061b83",
   "metadata": {},
   "source": [
    "##### Setando o Webdriver"
   ]
  },
  {
   "cell_type": "code",
   "execution_count": 4,
   "id": "11567dab",
   "metadata": {},
   "outputs": [],
   "source": [
    "warnings.filterwarnings(\"ignore\", category=DeprecationWarning)\n",
    "warnings.filterwarnings(\"ignore\", category=FutureWarning)\n",
    "edge_path = 'edgedriver_win64/msedgedriver.exe'\n",
    "options = EdgeOptions()\n",
    "options.add_argument(\n",
    "    'user-agent=Mozilla/5.0 (Windows NT 10.0; Win64; x64) AppleWebKit/537.36 (KHTML, like Gecko) Chrome/92.0.4515.131 Safari/537.36')"
   ]
  },
  {
   "cell_type": "markdown",
   "id": "442b5714",
   "metadata": {},
   "source": [
    "##### Fazendo o Scrapping"
   ]
  },
  {
   "cell_type": "code",
   "execution_count": 5,
   "id": "0e74edde",
   "metadata": {},
   "outputs": [],
   "source": [
    "driver = Edge(executable_path=edge_path, options=options)\n",
    "\n",
    "for pag in lista:\n",
    "    url = f'https://www.icarros.com.br/ache/listaanuncios.jsp?pag={pag}&ord=35&sop=nta_17|44|51.1_-rai_0.1_-esc_4.1_-sta_1.1_'\n",
    "    driver.get(url)\n",
    "    time.sleep(3)\n",
    "\n",
    "    elementos = driver.find_elements_by_class_name('card-offer__main-content')\n",
    "\n",
    "    for elemento in elementos:\n",
    "        conteudo = elemento.text\n",
    "        info = conteudo.split('\\n')\n",
    "\n",
    "        dados.append({\n",
    "            'Título': info[0],\n",
    "            'Descrição': info[1],\n",
    "            'Preço': info[2],\n",
    "            'Local': info[4],\n",
    "            'Ano': info[5],\n",
    "            'KM Rodado': info[6]\n",
    "        })\n",
    "\n",
    "    for _ in range(6):\n",
    "        rolar_pagina()\n",
    "\n",
    "driver.quit()"
   ]
  },
  {
   "cell_type": "markdown",
   "id": "b450470c",
   "metadata": {},
   "source": [
    "##### Criando um DataFrame a partir dos dados obtidos"
   ]
  },
  {
   "cell_type": "code",
   "execution_count": 9,
   "id": "93aa575c",
   "metadata": {},
   "outputs": [
    {
     "data": {
      "text/html": [
       "<div>\n",
       "<style scoped>\n",
       "    .dataframe tbody tr th:only-of-type {\n",
       "        vertical-align: middle;\n",
       "    }\n",
       "\n",
       "    .dataframe tbody tr th {\n",
       "        vertical-align: top;\n",
       "    }\n",
       "\n",
       "    .dataframe thead th {\n",
       "        text-align: right;\n",
       "    }\n",
       "</style>\n",
       "<table border=\"1\" class=\"dataframe\">\n",
       "  <thead>\n",
       "    <tr style=\"text-align: right;\">\n",
       "      <th></th>\n",
       "      <th>Título</th>\n",
       "      <th>Descrição</th>\n",
       "      <th>Preço</th>\n",
       "      <th>Local</th>\n",
       "      <th>Ano</th>\n",
       "      <th>KM Rodado</th>\n",
       "    </tr>\n",
       "  </thead>\n",
       "  <tbody>\n",
       "    <tr>\n",
       "      <th>0</th>\n",
       "      <td>Chevrolet Onix</td>\n",
       "      <td>Onix 1.0 Joy SPE/4 manual</td>\n",
       "      <td>R$ 52.900,00</td>\n",
       "      <td>Belo Horizonte, MG</td>\n",
       "      <td>2019/2019</td>\n",
       "      <td>72.000 Km</td>\n",
       "    </tr>\n",
       "    <tr>\n",
       "      <th>1</th>\n",
       "      <td>Honda CR-V</td>\n",
       "      <td>CR-V 2.0 16V 4X4 EXL (aut) automático</td>\n",
       "      <td>R$ 89.000,00</td>\n",
       "      <td>Vassouras, RJ</td>\n",
       "      <td>2012/2012</td>\n",
       "      <td>80.000 Km</td>\n",
       "    </tr>\n",
       "    <tr>\n",
       "      <th>2</th>\n",
       "      <td>BMW Série 3</td>\n",
       "      <td>320i ActiveFlex automático</td>\n",
       "      <td>R$ 114.900,00</td>\n",
       "      <td>Sinop, MT</td>\n",
       "      <td>2015/2015</td>\n",
       "      <td>10 Km</td>\n",
       "    </tr>\n",
       "    <tr>\n",
       "      <th>3</th>\n",
       "      <td>Hyundai HB20</td>\n",
       "      <td>HB20 1.6 Comfort Plus (Aut) automático</td>\n",
       "      <td>R$ 70.900,00</td>\n",
       "      <td>Taubaté, SP</td>\n",
       "      <td>2018/2019</td>\n",
       "      <td>56.000 Km</td>\n",
       "    </tr>\n",
       "    <tr>\n",
       "      <th>4</th>\n",
       "      <td>Chevrolet Tracker</td>\n",
       "      <td>Tracker 1.2 Turbo Premier (Aut) automático</td>\n",
       "      <td>R$ 108.900,00</td>\n",
       "      <td>Belo Horizonte, MG</td>\n",
       "      <td>2020/2021</td>\n",
       "      <td>40.000 Km</td>\n",
       "    </tr>\n",
       "  </tbody>\n",
       "</table>\n",
       "</div>"
      ],
      "text/plain": [
       "              Título                                   Descrição  \\\n",
       "0     Chevrolet Onix                   Onix 1.0 Joy SPE/4 manual   \n",
       "1         Honda CR-V       CR-V 2.0 16V 4X4 EXL (aut) automático   \n",
       "2        BMW Série 3                  320i ActiveFlex automático   \n",
       "3       Hyundai HB20      HB20 1.6 Comfort Plus (Aut) automático   \n",
       "4  Chevrolet Tracker  Tracker 1.2 Turbo Premier (Aut) automático   \n",
       "\n",
       "           Preço               Local        Ano  KM Rodado  \n",
       "0   R$ 52.900,00  Belo Horizonte, MG  2019/2019  72.000 Km  \n",
       "1   R$ 89.000,00       Vassouras, RJ  2012/2012  80.000 Km  \n",
       "2  R$ 114.900,00           Sinop, MT  2015/2015      10 Km  \n",
       "3   R$ 70.900,00         Taubaté, SP  2018/2019  56.000 Km  \n",
       "4  R$ 108.900,00  Belo Horizonte, MG  2020/2021  40.000 Km  "
      ]
     },
     "execution_count": 9,
     "metadata": {},
     "output_type": "execute_result"
    }
   ],
   "source": [
    "df = pd.DataFrame(dados)\n",
    "df.head()"
   ]
  },
  {
   "cell_type": "markdown",
   "id": "bf176c17",
   "metadata": {},
   "source": [
    "##### Levando os Dados Para um CSV"
   ]
  },
  {
   "cell_type": "code",
   "execution_count": 8,
   "id": "858e7155",
   "metadata": {},
   "outputs": [],
   "source": [
    "df.to_csv('carros.csv', index=False)"
   ]
  }
 ],
 "metadata": {
  "kernelspec": {
   "display_name": "Python 3 (ipykernel)",
   "language": "python",
   "name": "python3"
  },
  "language_info": {
   "codemirror_mode": {
    "name": "ipython",
    "version": 3
   },
   "file_extension": ".py",
   "mimetype": "text/x-python",
   "name": "python",
   "nbconvert_exporter": "python",
   "pygments_lexer": "ipython3",
   "version": "3.9.16"
  }
 },
 "nbformat": 4,
 "nbformat_minor": 5
}
